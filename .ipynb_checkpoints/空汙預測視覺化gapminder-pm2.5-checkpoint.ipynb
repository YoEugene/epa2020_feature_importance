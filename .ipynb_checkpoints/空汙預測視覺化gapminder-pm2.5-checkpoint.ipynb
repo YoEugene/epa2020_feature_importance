{
 "cells": [
  {
   "cell_type": "code",
   "execution_count": 1,
   "metadata": {},
   "outputs": [],
   "source": [
    "import dash\n",
    "import dash_core_components as dcc\n",
    "import dash_html_components as html\n",
    "import math\n",
    "import pandas as pd\n",
    "import plotly.graph_objs as go\n",
    "\n",
    "app = dash.Dash()\n",
    "\n",
    "df = pd.read_csv(\"./PM25_importance.csv\")"
   ]
  },
  {
   "cell_type": "code",
   "execution_count": 2,
   "metadata": {},
   "outputs": [
    {
     "data": {
      "text/html": [
       "<div>\n",
       "<style scoped>\n",
       "    .dataframe tbody tr th:only-of-type {\n",
       "        vertical-align: middle;\n",
       "    }\n",
       "\n",
       "    .dataframe tbody tr th {\n",
       "        vertical-align: top;\n",
       "    }\n",
       "\n",
       "    .dataframe thead th {\n",
       "        text-align: right;\n",
       "    }\n",
       "</style>\n",
       "<table border=\"1\" class=\"dataframe\">\n",
       "  <thead>\n",
       "    <tr style=\"text-align: right;\">\n",
       "      <th></th>\n",
       "      <th>feature</th>\n",
       "      <th>hour</th>\n",
       "      <th>importance</th>\n",
       "      <th>station</th>\n",
       "    </tr>\n",
       "  </thead>\n",
       "  <tbody>\n",
       "    <tr>\n",
       "      <td>0</td>\n",
       "      <td>PM2.5_T1</td>\n",
       "      <td>1</td>\n",
       "      <td>0.920052</td>\n",
       "      <td>仁武站</td>\n",
       "    </tr>\n",
       "    <tr>\n",
       "      <td>1</td>\n",
       "      <td>PM10_NEARBY_左營站_T1</td>\n",
       "      <td>1</td>\n",
       "      <td>0.009246</td>\n",
       "      <td>仁武站</td>\n",
       "    </tr>\n",
       "    <tr>\n",
       "      <td>2</td>\n",
       "      <td>NMHC_NEARBY_前金站_T1</td>\n",
       "      <td>1</td>\n",
       "      <td>0.007965</td>\n",
       "      <td>仁武站</td>\n",
       "    </tr>\n",
       "    <tr>\n",
       "      <td>3</td>\n",
       "      <td>PM2.5_NEARBY_富貴角站_T1</td>\n",
       "      <td>1</td>\n",
       "      <td>0.006173</td>\n",
       "      <td>仁武站</td>\n",
       "    </tr>\n",
       "    <tr>\n",
       "      <td>4</td>\n",
       "      <td>NO2_NEARBY_左營站_T1</td>\n",
       "      <td>1</td>\n",
       "      <td>0.004631</td>\n",
       "      <td>仁武站</td>\n",
       "    </tr>\n",
       "  </tbody>\n",
       "</table>\n",
       "</div>"
      ],
      "text/plain": [
       "                feature  hour  importance station\n",
       "0              PM2.5_T1     1    0.920052     仁武站\n",
       "1    PM10_NEARBY_左營站_T1     1    0.009246     仁武站\n",
       "2    NMHC_NEARBY_前金站_T1     1    0.007965     仁武站\n",
       "3  PM2.5_NEARBY_富貴角站_T1     1    0.006173     仁武站\n",
       "4     NO2_NEARBY_左營站_T1     1    0.004631     仁武站"
      ]
     },
     "execution_count": 2,
     "metadata": {},
     "output_type": "execute_result"
    }
   ],
   "source": [
    "df.head()"
   ]
  },
  {
   "cell_type": "code",
   "execution_count": 3,
   "metadata": {},
   "outputs": [],
   "source": [
    "unique_stations = list(df[\"station\"].unique())\n",
    "\n",
    "app.layout = html.Div([\n",
    "    html.H2(children='空汙視覺化 Air Pollution Feature Importance Visualization'),\n",
    "    dcc.Dropdown(\n",
    "        id=\"station-dropdown\",\n",
    "        options=[\n",
    "            {'label': i, 'value': i} for i in unique_stations\n",
    "        ],\n",
    "        value=unique_stations,\n",
    "        multi=True\n",
    "    ),\n",
    "    dcc.Graph(id='gapminder',\n",
    "              animate=True\n",
    "              ),\n",
    "    dcc.Slider(\n",
    "        id='hour-slider',\n",
    "        min=df['hour'].min(),\n",
    "        max=df['hour'].max(),\n",
    "        value=df['hour'].min(),\n",
    "        step=None,\n",
    "        marks={str(hour): str(hour) for hour in df['hour'].unique()}\n",
    "    )\n",
    "])\n",
    "\n",
    "\n",
    "@app.callback(\n",
    "    dash.dependencies.Output('gapminder', 'figure'),\n",
    "    [dash.dependencies.Input('hour-slider', 'value'),\n",
    "     dash.dependencies.Input('station-dropdown', 'value')])\n",
    "\n",
    "\n",
    "def update_figure(selected_hour, selected_station):\n",
    "    hour_filtered_df = df[df.hour == selected_hour]\n",
    "    filtered_df = hour_filtered_df[df.station.isin(selected_station)]\n",
    "    traces = []\n",
    "    for i in filtered_df.station.unique():\n",
    "        df_by_station = filtered_df[filtered_df['station'] == i].sort_values(['importance'], ascending=[0])[:20]\n",
    "        traces.append(go.Scatter(\n",
    "            x=df_by_station['feature'],\n",
    "            y=df_by_station['importance'],\n",
    "            text=df_by_station['feature'],\n",
    "            mode='markers',\n",
    "            opacity=0.7,\n",
    "            marker={\n",
    "                'line': {'width': 0.5, 'color': 'white'},\n",
    "                'symbol': 'circle',\n",
    "                'sizemode': 'area'\n",
    "            },\n",
    "            name=i,\n",
    "        ))\n",
    "\n",
    "    return {\n",
    "        'data': traces,\n",
    "        'layout': go.Layout(\n",
    "            xaxis={'type': 'category', 'title': 'feature'},\n",
    "            yaxis={'title': 'importance', 'range': [0, 1]},\n",
    "            margin={'l': 40, 'b': 150, 't': 10, 'r': 40},\n",
    "            legend={'x': 0, 'y': 1},\n",
    "            hovermode='closest'\n",
    "        )\n",
    "    }"
   ]
  },
  {
   "cell_type": "code",
   "execution_count": 4,
   "metadata": {},
   "outputs": [
    {
     "name": "stdout",
     "output_type": "stream",
     "text": [
      "Dash is running on http://127.0.0.1:8050/\n",
      "\n",
      " Warning: This is a development server. Do not use app.run_server\n",
      " in production, use a production WSGI server like gunicorn instead.\n",
      "\n",
      " * Serving Flask app \"__main__\" (lazy loading)\n",
      " * Environment: production\n",
      "   WARNING: Do not use the development server in a production environment.\n",
      "   Use a production WSGI server instead.\n",
      " * Debug mode: on\n"
     ]
    },
    {
     "ename": "SystemExit",
     "evalue": "1",
     "output_type": "error",
     "traceback": [
      "An exception has occurred, use %tb to see the full traceback.\n",
      "\u001b[0;31mSystemExit\u001b[0m\u001b[0;31m:\u001b[0m 1\n"
     ]
    },
    {
     "name": "stderr",
     "output_type": "stream",
     "text": [
      "/Users/yoeugene/anaconda3/lib/python3.6/site-packages/IPython/core/interactiveshell.py:3334: UserWarning:\n",
      "\n",
      "To exit: use 'exit', 'quit', or Ctrl-D.\n",
      "\n"
     ]
    }
   ],
   "source": [
    "app.run_server()\n"
   ]
  }
 ],
 "metadata": {
  "kernelspec": {
   "display_name": "Python 3",
   "language": "python",
   "name": "python3"
  },
  "language_info": {
   "codemirror_mode": {
    "name": "ipython",
    "version": 3
   },
   "file_extension": ".py",
   "mimetype": "text/x-python",
   "name": "python",
   "nbconvert_exporter": "python",
   "pygments_lexer": "ipython3",
   "version": "3.6.8"
  }
 },
 "nbformat": 4,
 "nbformat_minor": 4
}
